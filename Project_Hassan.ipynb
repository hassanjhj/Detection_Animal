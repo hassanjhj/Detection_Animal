{
  "nbformat": 4,
  "nbformat_minor": 0,
  "metadata": {
    "colab": {
      "provenance": []
    },
    "kernelspec": {
      "name": "python3",
      "display_name": "Python 3"
    },
    "language_info": {
      "name": "python"
    }
  },
  "cells": [
    {
      "cell_type": "code",
      "execution_count": 1,
      "metadata": {
        "id": "GL37Mc_gi2Uz"
      },
      "outputs": [],
      "source": [
        "import numpy as np\n",
        "import pandas as pd\n",
        "import matplotlib.pyplot as plt\n",
        "import copy\n",
        "import time\n",
        "import os\n",
        "\n",
        "import torch\n",
        "import torch.nn as nn\n",
        "import torch.nn.functional as F\n",
        "import torch.optim as optim\n",
        "from torch.utils.data import Dataset, DataLoader\n",
        "import torchvision.datasets as datasets\n",
        "from torchvision import transforms\n",
        "\n",
        "from sklearn.model_selection import train_test_split\n",
        "from torch.utils.data import random_split\n",
        "\n",
        "from PIL import Image"
      ]
    },
    {
      "cell_type": "code",
      "source": [
        "transformer=transforms.Compose([\n",
        "                                transforms.ToTensor(),\n",
        "                                transforms.Normalize((0.5),(0.5))\n",
        "                                ])"
      ],
      "metadata": {
        "id": "9zo13mQ6jWJH"
      },
      "execution_count": 2,
      "outputs": []
    },
    {
      "cell_type": "code",
      "source": [
        "train_data=datasets.CIFAR10(root='./data',train=True,download=True,transform=transformer)\n",
        "test_data=datasets.CIFAR10(root='./data',train=False,download=True,transform=transformer)\n",
        "\n",
        "train_loader=DataLoader(train_data,batch_size=64,shuffle=True)\n",
        "test_loader=DataLoader(test_data,batch_size=100,shuffle=True)"
      ],
      "metadata": {
        "colab": {
          "base_uri": "https://localhost:8080/"
        },
        "id": "aas0vISej7U7",
        "outputId": "a36169ca-c479-4830-cf05-e0b22cecc120"
      },
      "execution_count": 3,
      "outputs": [
        {
          "output_type": "stream",
          "name": "stdout",
          "text": [
            "Downloading https://www.cs.toronto.edu/~kriz/cifar-10-python.tar.gz to ./data/cifar-10-python.tar.gz\n"
          ]
        },
        {
          "output_type": "stream",
          "name": "stderr",
          "text": [
            "100%|██████████| 170498071/170498071 [00:05<00:00, 33471523.57it/s]\n"
          ]
        },
        {
          "output_type": "stream",
          "name": "stdout",
          "text": [
            "Extracting ./data/cifar-10-python.tar.gz to ./data\n",
            "Files already downloaded and verified\n"
          ]
        }
      ]
    },
    {
      "cell_type": "code",
      "source": [
        "print(train_data[0][0].shape)\n",
        "print(test_data[0][0].shape)\n",
        "print(train_data)\n",
        "print(test_data)"
      ],
      "metadata": {
        "colab": {
          "base_uri": "https://localhost:8080/"
        },
        "id": "Zve7u6ZJkqVk",
        "outputId": "f887c438-a873-422f-f027-36a86b86bd9d"
      },
      "execution_count": 4,
      "outputs": [
        {
          "output_type": "stream",
          "name": "stdout",
          "text": [
            "torch.Size([3, 32, 32])\n",
            "torch.Size([3, 32, 32])\n",
            "Dataset CIFAR10\n",
            "    Number of datapoints: 50000\n",
            "    Root location: ./data\n",
            "    Split: Train\n",
            "    StandardTransform\n",
            "Transform: Compose(\n",
            "               ToTensor()\n",
            "               Normalize(mean=0.5, std=0.5)\n",
            "           )\n",
            "Dataset CIFAR10\n",
            "    Number of datapoints: 10000\n",
            "    Root location: ./data\n",
            "    Split: Test\n",
            "    StandardTransform\n",
            "Transform: Compose(\n",
            "               ToTensor()\n",
            "               Normalize(mean=0.5, std=0.5)\n",
            "           )\n"
          ]
        }
      ]
    },
    {
      "cell_type": "code",
      "source": [
        "# Model 1\n",
        "class CNN(nn.Module):\n",
        "  def __init__(self):\n",
        "    super(CNN, self).__init__()\n",
        "\n",
        "    self.conv1 = nn.Conv2d(3,32, kernel_size=3,padding=1)\n",
        "    self.conv2 = nn.Conv2d(32,64, kernel_size=3,padding=1)\n",
        "    self.pool=nn.MaxPool2d(2,2)\n",
        "    self.fc1 = nn.Linear(64*8*8, 128) # Changed the input features to match the output of conv layers\n",
        "    self.fc2 = nn.Linear(128, 10)\n",
        "\n",
        "  def forward(self, x):\n",
        "    x=self.pool(torch.relu(self.conv1(x)))\n",
        "    x=self.pool(torch.relu(self.conv2(x)))\n",
        "    x=x.view(-1,64*8*8) # Adjusted the view to match the calculated output size\n",
        "    x=torch.relu(self.fc1(x))\n",
        "    x=self.fc2(x)\n",
        "    return x\n",
        "model=CNN()"
      ],
      "metadata": {
        "id": "zV0mex2AlwZR"
      },
      "execution_count": 5,
      "outputs": []
    },
    {
      "cell_type": "code",
      "source": [
        "device=torch.device('cuda' if torch.cuda.is_available() else 'cpu')\n",
        "model.to(device)"
      ],
      "metadata": {
        "colab": {
          "base_uri": "https://localhost:8080/"
        },
        "id": "Ar4RoSFwnPDE",
        "outputId": "edee4869-6bd7-4b45-fc92-94e59be62632"
      },
      "execution_count": 6,
      "outputs": [
        {
          "output_type": "execute_result",
          "data": {
            "text/plain": [
              "CNN(\n",
              "  (conv1): Conv2d(3, 32, kernel_size=(3, 3), stride=(1, 1), padding=(1, 1))\n",
              "  (conv2): Conv2d(32, 64, kernel_size=(3, 3), stride=(1, 1), padding=(1, 1))\n",
              "  (pool): MaxPool2d(kernel_size=2, stride=2, padding=0, dilation=1, ceil_mode=False)\n",
              "  (fc1): Linear(in_features=4096, out_features=128, bias=True)\n",
              "  (fc2): Linear(in_features=128, out_features=10, bias=True)\n",
              ")"
            ]
          },
          "metadata": {},
          "execution_count": 6
        }
      ]
    },
    {
      "cell_type": "code",
      "source": [
        "Loss_fn=nn.CrossEntropyLoss()\n",
        "optimizer=optim.Adam(model.parameters(),lr=0.001)"
      ],
      "metadata": {
        "id": "r3OpwLYSnTbv"
      },
      "execution_count": 7,
      "outputs": []
    },
    {
      "cell_type": "code",
      "source": [
        "#j Frist 7 -> Second -> 8 best 7\n",
        "for epoch in range(7):\n",
        "  running_loss=0\n",
        "  for i,data in enumerate(train_loader,0):\n",
        "    inputs,labels=data\n",
        "    optimizer.zero_grad()\n",
        "    output=model(inputs)   # cpu\n",
        "    # output=model(inputs.to(device))   # cuda\n",
        "    loss=Loss_fn(output,labels)  # cpu\n",
        "    # loss=Loss_fn(output,labels.to(device))   # cuda\n",
        "    loss.backward()\n",
        "    optimizer.step()\n",
        "    running_loss+=loss.item()\n",
        "    if i % 100 == 99:\n",
        "      print(f'Train Epoch: {epoch +1} , Batch :{i+1} , Loss: {running_loss/100 :.3f}')\n",
        "      running_loss=0.0\n",
        "\n",
        "print('Finished Training')"
      ],
      "metadata": {
        "colab": {
          "base_uri": "https://localhost:8080/"
        },
        "id": "xgpnizP3narn",
        "outputId": "a399eae3-4936-4d4b-8747-b68fd5e60b9a"
      },
      "execution_count": 8,
      "outputs": [
        {
          "output_type": "stream",
          "name": "stdout",
          "text": [
            "Train Epoch: 1 , Batch :100 , Loss: 1.881\n",
            "Train Epoch: 1 , Batch :200 , Loss: 1.534\n",
            "Train Epoch: 1 , Batch :300 , Loss: 1.374\n",
            "Train Epoch: 1 , Batch :400 , Loss: 1.348\n",
            "Train Epoch: 1 , Batch :500 , Loss: 1.228\n",
            "Train Epoch: 1 , Batch :600 , Loss: 1.186\n",
            "Train Epoch: 1 , Batch :700 , Loss: 1.162\n",
            "Train Epoch: 2 , Batch :100 , Loss: 1.044\n",
            "Train Epoch: 2 , Batch :200 , Loss: 1.039\n",
            "Train Epoch: 2 , Batch :300 , Loss: 1.005\n",
            "Train Epoch: 2 , Batch :400 , Loss: 0.965\n",
            "Train Epoch: 2 , Batch :500 , Loss: 0.956\n",
            "Train Epoch: 2 , Batch :600 , Loss: 0.957\n",
            "Train Epoch: 2 , Batch :700 , Loss: 0.917\n",
            "Train Epoch: 3 , Batch :100 , Loss: 0.842\n",
            "Train Epoch: 3 , Batch :200 , Loss: 0.821\n",
            "Train Epoch: 3 , Batch :300 , Loss: 0.861\n",
            "Train Epoch: 3 , Batch :400 , Loss: 0.836\n",
            "Train Epoch: 3 , Batch :500 , Loss: 0.828\n",
            "Train Epoch: 3 , Batch :600 , Loss: 0.832\n",
            "Train Epoch: 3 , Batch :700 , Loss: 0.786\n",
            "Train Epoch: 4 , Batch :100 , Loss: 0.731\n",
            "Train Epoch: 4 , Batch :200 , Loss: 0.725\n",
            "Train Epoch: 4 , Batch :300 , Loss: 0.715\n",
            "Train Epoch: 4 , Batch :400 , Loss: 0.703\n",
            "Train Epoch: 4 , Batch :500 , Loss: 0.719\n",
            "Train Epoch: 4 , Batch :600 , Loss: 0.729\n",
            "Train Epoch: 4 , Batch :700 , Loss: 0.699\n",
            "Train Epoch: 5 , Batch :100 , Loss: 0.620\n",
            "Train Epoch: 5 , Batch :200 , Loss: 0.610\n",
            "Train Epoch: 5 , Batch :300 , Loss: 0.628\n",
            "Train Epoch: 5 , Batch :400 , Loss: 0.633\n",
            "Train Epoch: 5 , Batch :500 , Loss: 0.627\n",
            "Train Epoch: 5 , Batch :600 , Loss: 0.637\n",
            "Train Epoch: 5 , Batch :700 , Loss: 0.650\n",
            "Train Epoch: 6 , Batch :100 , Loss: 0.526\n",
            "Train Epoch: 6 , Batch :200 , Loss: 0.517\n",
            "Train Epoch: 6 , Batch :300 , Loss: 0.523\n",
            "Train Epoch: 6 , Batch :400 , Loss: 0.560\n",
            "Train Epoch: 6 , Batch :500 , Loss: 0.551\n",
            "Train Epoch: 6 , Batch :600 , Loss: 0.553\n",
            "Train Epoch: 6 , Batch :700 , Loss: 0.556\n",
            "Train Epoch: 7 , Batch :100 , Loss: 0.450\n",
            "Train Epoch: 7 , Batch :200 , Loss: 0.451\n",
            "Train Epoch: 7 , Batch :300 , Loss: 0.444\n",
            "Train Epoch: 7 , Batch :400 , Loss: 0.469\n",
            "Train Epoch: 7 , Batch :500 , Loss: 0.475\n",
            "Train Epoch: 7 , Batch :600 , Loss: 0.483\n",
            "Train Epoch: 7 , Batch :700 , Loss: 0.483\n",
            "Finished Training\n"
          ]
        }
      ]
    },
    {
      "cell_type": "code",
      "source": [
        "correct=0\n",
        "total=0\n",
        "with torch.no_grad():\n",
        "  for data in test_loader:\n",
        "    images,labels=data\n",
        "    outputs=model(images)   # cpu\n",
        "    # images = images.to(device)  # cuda\n",
        "    # labels = labels.to(device) # cuda\n",
        "    # outputs=model(images)   # cuda\n",
        "    _,predicted=torch.max(outputs.data,1)\n",
        "    total+=labels.size(0)\n",
        "    correct+=(predicted==labels).sum().item()\n",
        "    print(f'Accuracy of the network on the 10000 test images: {100*correct/total :.2f}%')"
      ],
      "metadata": {
        "colab": {
          "base_uri": "https://localhost:8080/"
        },
        "id": "35SxEu5Qnd9L",
        "outputId": "939bf669-5ee1-4835-aa28-755527262f5f"
      },
      "execution_count": 9,
      "outputs": [
        {
          "output_type": "stream",
          "name": "stdout",
          "text": [
            "Accuracy of the network on the 10000 test images: 67.00%\n",
            "Accuracy of the network on the 10000 test images: 71.00%\n",
            "Accuracy of the network on the 10000 test images: 71.33%\n",
            "Accuracy of the network on the 10000 test images: 71.50%\n",
            "Accuracy of the network on the 10000 test images: 72.20%\n",
            "Accuracy of the network on the 10000 test images: 73.00%\n",
            "Accuracy of the network on the 10000 test images: 73.00%\n",
            "Accuracy of the network on the 10000 test images: 73.00%\n",
            "Accuracy of the network on the 10000 test images: 72.56%\n",
            "Accuracy of the network on the 10000 test images: 71.60%\n",
            "Accuracy of the network on the 10000 test images: 71.36%\n",
            "Accuracy of the network on the 10000 test images: 71.17%\n",
            "Accuracy of the network on the 10000 test images: 71.00%\n",
            "Accuracy of the network on the 10000 test images: 71.50%\n",
            "Accuracy of the network on the 10000 test images: 71.60%\n",
            "Accuracy of the network on the 10000 test images: 71.69%\n",
            "Accuracy of the network on the 10000 test images: 71.41%\n",
            "Accuracy of the network on the 10000 test images: 71.11%\n",
            "Accuracy of the network on the 10000 test images: 71.47%\n",
            "Accuracy of the network on the 10000 test images: 71.40%\n",
            "Accuracy of the network on the 10000 test images: 71.52%\n",
            "Accuracy of the network on the 10000 test images: 71.64%\n",
            "Accuracy of the network on the 10000 test images: 71.78%\n",
            "Accuracy of the network on the 10000 test images: 71.71%\n",
            "Accuracy of the network on the 10000 test images: 71.88%\n",
            "Accuracy of the network on the 10000 test images: 72.23%\n",
            "Accuracy of the network on the 10000 test images: 72.22%\n",
            "Accuracy of the network on the 10000 test images: 72.54%\n",
            "Accuracy of the network on the 10000 test images: 72.45%\n",
            "Accuracy of the network on the 10000 test images: 72.37%\n",
            "Accuracy of the network on the 10000 test images: 72.58%\n",
            "Accuracy of the network on the 10000 test images: 72.47%\n",
            "Accuracy of the network on the 10000 test images: 72.45%\n",
            "Accuracy of the network on the 10000 test images: 72.50%\n",
            "Accuracy of the network on the 10000 test images: 72.46%\n",
            "Accuracy of the network on the 10000 test images: 72.72%\n",
            "Accuracy of the network on the 10000 test images: 72.57%\n",
            "Accuracy of the network on the 10000 test images: 72.50%\n",
            "Accuracy of the network on the 10000 test images: 72.54%\n",
            "Accuracy of the network on the 10000 test images: 72.62%\n",
            "Accuracy of the network on the 10000 test images: 72.66%\n",
            "Accuracy of the network on the 10000 test images: 72.64%\n",
            "Accuracy of the network on the 10000 test images: 72.70%\n",
            "Accuracy of the network on the 10000 test images: 72.57%\n",
            "Accuracy of the network on the 10000 test images: 72.53%\n",
            "Accuracy of the network on the 10000 test images: 72.65%\n",
            "Accuracy of the network on the 10000 test images: 72.70%\n",
            "Accuracy of the network on the 10000 test images: 72.81%\n",
            "Accuracy of the network on the 10000 test images: 72.86%\n",
            "Accuracy of the network on the 10000 test images: 72.82%\n",
            "Accuracy of the network on the 10000 test images: 72.94%\n",
            "Accuracy of the network on the 10000 test images: 72.85%\n",
            "Accuracy of the network on the 10000 test images: 72.75%\n",
            "Accuracy of the network on the 10000 test images: 72.83%\n",
            "Accuracy of the network on the 10000 test images: 72.84%\n",
            "Accuracy of the network on the 10000 test images: 72.73%\n",
            "Accuracy of the network on the 10000 test images: 72.63%\n",
            "Accuracy of the network on the 10000 test images: 72.59%\n",
            "Accuracy of the network on the 10000 test images: 72.44%\n",
            "Accuracy of the network on the 10000 test images: 72.37%\n",
            "Accuracy of the network on the 10000 test images: 72.36%\n",
            "Accuracy of the network on the 10000 test images: 72.44%\n",
            "Accuracy of the network on the 10000 test images: 72.37%\n",
            "Accuracy of the network on the 10000 test images: 72.34%\n",
            "Accuracy of the network on the 10000 test images: 72.31%\n",
            "Accuracy of the network on the 10000 test images: 72.32%\n",
            "Accuracy of the network on the 10000 test images: 72.19%\n",
            "Accuracy of the network on the 10000 test images: 72.29%\n",
            "Accuracy of the network on the 10000 test images: 72.30%\n",
            "Accuracy of the network on the 10000 test images: 72.36%\n",
            "Accuracy of the network on the 10000 test images: 72.42%\n",
            "Accuracy of the network on the 10000 test images: 72.43%\n",
            "Accuracy of the network on the 10000 test images: 72.52%\n",
            "Accuracy of the network on the 10000 test images: 72.50%\n",
            "Accuracy of the network on the 10000 test images: 72.36%\n",
            "Accuracy of the network on the 10000 test images: 72.18%\n",
            "Accuracy of the network on the 10000 test images: 72.13%\n",
            "Accuracy of the network on the 10000 test images: 72.17%\n",
            "Accuracy of the network on the 10000 test images: 72.18%\n",
            "Accuracy of the network on the 10000 test images: 72.20%\n",
            "Accuracy of the network on the 10000 test images: 72.15%\n",
            "Accuracy of the network on the 10000 test images: 72.11%\n",
            "Accuracy of the network on the 10000 test images: 72.08%\n",
            "Accuracy of the network on the 10000 test images: 72.06%\n",
            "Accuracy of the network on the 10000 test images: 72.07%\n",
            "Accuracy of the network on the 10000 test images: 72.05%\n",
            "Accuracy of the network on the 10000 test images: 71.97%\n",
            "Accuracy of the network on the 10000 test images: 71.86%\n",
            "Accuracy of the network on the 10000 test images: 71.76%\n",
            "Accuracy of the network on the 10000 test images: 71.78%\n",
            "Accuracy of the network on the 10000 test images: 71.77%\n",
            "Accuracy of the network on the 10000 test images: 71.75%\n",
            "Accuracy of the network on the 10000 test images: 71.71%\n",
            "Accuracy of the network on the 10000 test images: 71.68%\n",
            "Accuracy of the network on the 10000 test images: 71.61%\n",
            "Accuracy of the network on the 10000 test images: 71.65%\n",
            "Accuracy of the network on the 10000 test images: 71.62%\n",
            "Accuracy of the network on the 10000 test images: 71.65%\n",
            "Accuracy of the network on the 10000 test images: 71.66%\n",
            "Accuracy of the network on the 10000 test images: 71.64%\n"
          ]
        }
      ]
    },
    {
      "cell_type": "code",
      "source": [
        "from google.colab import files\n",
        "up = files.upload()"
      ],
      "metadata": {
        "colab": {
          "base_uri": "https://localhost:8080/",
          "height": 74
        },
        "id": "wXxob-mkpNiC",
        "outputId": "16fa3c89-f52e-4bca-e4d2-f16b82bb0af2"
      },
      "execution_count": 53,
      "outputs": [
        {
          "output_type": "display_data",
          "data": {
            "text/plain": [
              "<IPython.core.display.HTML object>"
            ],
            "text/html": [
              "\n",
              "     <input type=\"file\" id=\"files-06b61952-fb2f-4daf-837b-c1c41de88c94\" name=\"files[]\" multiple disabled\n",
              "        style=\"border:none\" />\n",
              "     <output id=\"result-06b61952-fb2f-4daf-837b-c1c41de88c94\">\n",
              "      Upload widget is only available when the cell has been executed in the\n",
              "      current browser session. Please rerun this cell to enable.\n",
              "      </output>\n",
              "      <script>// Copyright 2017 Google LLC\n",
              "//\n",
              "// Licensed under the Apache License, Version 2.0 (the \"License\");\n",
              "// you may not use this file except in compliance with the License.\n",
              "// You may obtain a copy of the License at\n",
              "//\n",
              "//      http://www.apache.org/licenses/LICENSE-2.0\n",
              "//\n",
              "// Unless required by applicable law or agreed to in writing, software\n",
              "// distributed under the License is distributed on an \"AS IS\" BASIS,\n",
              "// WITHOUT WARRANTIES OR CONDITIONS OF ANY KIND, either express or implied.\n",
              "// See the License for the specific language governing permissions and\n",
              "// limitations under the License.\n",
              "\n",
              "/**\n",
              " * @fileoverview Helpers for google.colab Python module.\n",
              " */\n",
              "(function(scope) {\n",
              "function span(text, styleAttributes = {}) {\n",
              "  const element = document.createElement('span');\n",
              "  element.textContent = text;\n",
              "  for (const key of Object.keys(styleAttributes)) {\n",
              "    element.style[key] = styleAttributes[key];\n",
              "  }\n",
              "  return element;\n",
              "}\n",
              "\n",
              "// Max number of bytes which will be uploaded at a time.\n",
              "const MAX_PAYLOAD_SIZE = 100 * 1024;\n",
              "\n",
              "function _uploadFiles(inputId, outputId) {\n",
              "  const steps = uploadFilesStep(inputId, outputId);\n",
              "  const outputElement = document.getElementById(outputId);\n",
              "  // Cache steps on the outputElement to make it available for the next call\n",
              "  // to uploadFilesContinue from Python.\n",
              "  outputElement.steps = steps;\n",
              "\n",
              "  return _uploadFilesContinue(outputId);\n",
              "}\n",
              "\n",
              "// This is roughly an async generator (not supported in the browser yet),\n",
              "// where there are multiple asynchronous steps and the Python side is going\n",
              "// to poll for completion of each step.\n",
              "// This uses a Promise to block the python side on completion of each step,\n",
              "// then passes the result of the previous step as the input to the next step.\n",
              "function _uploadFilesContinue(outputId) {\n",
              "  const outputElement = document.getElementById(outputId);\n",
              "  const steps = outputElement.steps;\n",
              "\n",
              "  const next = steps.next(outputElement.lastPromiseValue);\n",
              "  return Promise.resolve(next.value.promise).then((value) => {\n",
              "    // Cache the last promise value to make it available to the next\n",
              "    // step of the generator.\n",
              "    outputElement.lastPromiseValue = value;\n",
              "    return next.value.response;\n",
              "  });\n",
              "}\n",
              "\n",
              "/**\n",
              " * Generator function which is called between each async step of the upload\n",
              " * process.\n",
              " * @param {string} inputId Element ID of the input file picker element.\n",
              " * @param {string} outputId Element ID of the output display.\n",
              " * @return {!Iterable<!Object>} Iterable of next steps.\n",
              " */\n",
              "function* uploadFilesStep(inputId, outputId) {\n",
              "  const inputElement = document.getElementById(inputId);\n",
              "  inputElement.disabled = false;\n",
              "\n",
              "  const outputElement = document.getElementById(outputId);\n",
              "  outputElement.innerHTML = '';\n",
              "\n",
              "  const pickedPromise = new Promise((resolve) => {\n",
              "    inputElement.addEventListener('change', (e) => {\n",
              "      resolve(e.target.files);\n",
              "    });\n",
              "  });\n",
              "\n",
              "  const cancel = document.createElement('button');\n",
              "  inputElement.parentElement.appendChild(cancel);\n",
              "  cancel.textContent = 'Cancel upload';\n",
              "  const cancelPromise = new Promise((resolve) => {\n",
              "    cancel.onclick = () => {\n",
              "      resolve(null);\n",
              "    };\n",
              "  });\n",
              "\n",
              "  // Wait for the user to pick the files.\n",
              "  const files = yield {\n",
              "    promise: Promise.race([pickedPromise, cancelPromise]),\n",
              "    response: {\n",
              "      action: 'starting',\n",
              "    }\n",
              "  };\n",
              "\n",
              "  cancel.remove();\n",
              "\n",
              "  // Disable the input element since further picks are not allowed.\n",
              "  inputElement.disabled = true;\n",
              "\n",
              "  if (!files) {\n",
              "    return {\n",
              "      response: {\n",
              "        action: 'complete',\n",
              "      }\n",
              "    };\n",
              "  }\n",
              "\n",
              "  for (const file of files) {\n",
              "    const li = document.createElement('li');\n",
              "    li.append(span(file.name, {fontWeight: 'bold'}));\n",
              "    li.append(span(\n",
              "        `(${file.type || 'n/a'}) - ${file.size} bytes, ` +\n",
              "        `last modified: ${\n",
              "            file.lastModifiedDate ? file.lastModifiedDate.toLocaleDateString() :\n",
              "                                    'n/a'} - `));\n",
              "    const percent = span('0% done');\n",
              "    li.appendChild(percent);\n",
              "\n",
              "    outputElement.appendChild(li);\n",
              "\n",
              "    const fileDataPromise = new Promise((resolve) => {\n",
              "      const reader = new FileReader();\n",
              "      reader.onload = (e) => {\n",
              "        resolve(e.target.result);\n",
              "      };\n",
              "      reader.readAsArrayBuffer(file);\n",
              "    });\n",
              "    // Wait for the data to be ready.\n",
              "    let fileData = yield {\n",
              "      promise: fileDataPromise,\n",
              "      response: {\n",
              "        action: 'continue',\n",
              "      }\n",
              "    };\n",
              "\n",
              "    // Use a chunked sending to avoid message size limits. See b/62115660.\n",
              "    let position = 0;\n",
              "    do {\n",
              "      const length = Math.min(fileData.byteLength - position, MAX_PAYLOAD_SIZE);\n",
              "      const chunk = new Uint8Array(fileData, position, length);\n",
              "      position += length;\n",
              "\n",
              "      const base64 = btoa(String.fromCharCode.apply(null, chunk));\n",
              "      yield {\n",
              "        response: {\n",
              "          action: 'append',\n",
              "          file: file.name,\n",
              "          data: base64,\n",
              "        },\n",
              "      };\n",
              "\n",
              "      let percentDone = fileData.byteLength === 0 ?\n",
              "          100 :\n",
              "          Math.round((position / fileData.byteLength) * 100);\n",
              "      percent.textContent = `${percentDone}% done`;\n",
              "\n",
              "    } while (position < fileData.byteLength);\n",
              "  }\n",
              "\n",
              "  // All done.\n",
              "  yield {\n",
              "    response: {\n",
              "      action: 'complete',\n",
              "    }\n",
              "  };\n",
              "}\n",
              "\n",
              "scope.google = scope.google || {};\n",
              "scope.google.colab = scope.google.colab || {};\n",
              "scope.google.colab._files = {\n",
              "  _uploadFiles,\n",
              "  _uploadFilesContinue,\n",
              "};\n",
              "})(self);\n",
              "</script> "
            ]
          },
          "metadata": {}
        },
        {
          "output_type": "stream",
          "name": "stdout",
          "text": [
            "Saving Air.jpg to Air.jpg\n"
          ]
        }
      ]
    },
    {
      "cell_type": "code",
      "source": [
        "# This is write Gemini\n",
        "import io\n",
        "filename = next(iter(up))\n",
        "image_bytes = up[filename]\n",
        "image = Image.open(io.BytesIO(image_bytes))"
      ],
      "metadata": {
        "id": "i01SGtOaxe1q"
      },
      "execution_count": 54,
      "outputs": []
    },
    {
      "cell_type": "code",
      "source": [
        "transformers = transforms.Compose([\n",
        "    transforms.ToTensor(),\n",
        "    transforms.Resize((32,32)),\n",
        "    transforms.Normalize((0.5),(0.5))\n",
        "])\n",
        "\n",
        "img = transformers(image)"
      ],
      "metadata": {
        "id": "lcJOXyjFpar9"
      },
      "execution_count": 55,
      "outputs": []
    },
    {
      "cell_type": "code",
      "source": [
        "plt.imshow(img.permute(1,2,0)) # I help in gemini because this is error"
      ],
      "metadata": {
        "colab": {
          "base_uri": "https://localhost:8080/",
          "height": 466
        },
        "id": "-yKaNUuMxk2l",
        "outputId": "0a7a7b9b-14d6-4e76-d18d-aaa916ad77dc"
      },
      "execution_count": 56,
      "outputs": [
        {
          "output_type": "stream",
          "name": "stderr",
          "text": [
            "WARNING:matplotlib.image:Clipping input data to the valid range for imshow with RGB data ([0..1] for floats or [0..255] for integers).\n"
          ]
        },
        {
          "output_type": "execute_result",
          "data": {
            "text/plain": [
              "<matplotlib.image.AxesImage at 0x7f24cf2e8a60>"
            ]
          },
          "metadata": {},
          "execution_count": 56
        },
        {
          "output_type": "display_data",
          "data": {
            "text/plain": [
              "<Figure size 640x480 with 1 Axes>"
            ],
            "image/png": "[encoded data removed]"
          },
          "metadata": {}
        }
      ]
    },
    {
      "cell_type": "code",
      "source": [
        "model.eval()\n",
        "\n",
        "with torch.no_grad():\n",
        "    output = model(img)\n",
        "    _, predicted = torch.max(output.data, 1)\n",
        "    Show=train_data.classes[predicted]\n",
        "\n",
        "    print(Show)\n",
        "    print(predicted)"
      ],
      "metadata": {
        "id": "5cCwy4FAphDT",
        "colab": {
          "base_uri": "https://localhost:8080/"
        },
        "outputId": "16eaf6d1-5bd6-41b4-91cf-95f00ab3c7e6"
      },
      "execution_count": 57,
      "outputs": [
        {
          "output_type": "stream",
          "name": "stdout",
          "text": [
            "airplane\n",
            "tensor([0])\n"
          ]
        }
      ]
    },
    {
      "cell_type": "code",
      "source": [
        "# I don't think correct\n",
        "# Why don't write test_data\n",
        "train_data.classes[predicted]"
      ],
      "metadata": {
        "id": "lHOXZ2q7xz0d",
        "colab": {
          "base_uri": "https://localhost:8080/",
          "height": 36
        },
        "outputId": "da8ab73b-b52a-42ba-d4d7-f4833b8dc0ef"
      },
      "execution_count": 52,
      "outputs": [
        {
          "output_type": "execute_result",
          "data": {
            "text/plain": [
              "'automobile'"
            ],
            "application/vnd.google.colaboratory.intrinsic+json": {
              "type": "string"
            }
          },
          "metadata": {},
          "execution_count": 52
        }
      ]
    }
  ]
}